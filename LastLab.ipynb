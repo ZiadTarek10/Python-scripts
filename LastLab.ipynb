{
 "cells": [
  {
   "cell_type": "markdown",
   "metadata": {},
   "source": [
    "A Queue is a linear structure which follows a particular order in which the operations are performed.\n",
    "The order is First In First Out (FIFO). A good example of a queue is any queue of consumers for a\n",
    "resource where the consumer that came first is served first."
   ]
  },
  {
   "cell_type": "markdown",
   "metadata": {},
   "source": [
    "1 - We need to implement a python class that represents the queue data\n",
    "structure.\n",
    "The class should have these operations:\n",
    "- insert(value) => which inserts a new value at the rear of the queue\n",
    "- pop() => which returns and removes a value from the front of the queue.\n",
    "We should return None and print a warning message if we tried to pop\n",
    "value from an empty queue\n",
    "- is_empty() => which returns True or False to represent whether the queue\n",
    "is empty or not"
   ]
  },
  {
   "cell_type": "code",
   "execution_count": 1,
   "metadata": {},
   "outputs": [
    {
     "name": "stdout",
     "output_type": "stream",
     "text": [
      "True\n",
      "1\n",
      "2\n"
     ]
    }
   ],
   "source": [
    "class queue :\n",
    "    def __init__(self):\n",
    "        self.items = []\n",
    "\n",
    "    def isEmpty(self):\n",
    "        return len(self.items) == 0\n",
    "    def enqueue(self, item):\n",
    "        self.items.append(item)\n",
    "    def pop(self):\n",
    "        if self.isEmpty():\n",
    "            print(\"Queue is empty\")\n",
    "            return None\n",
    "        return self.items.pop(0)\n",
    "queue1 = queue()\n",
    "print(queue1.isEmpty())\n",
    "queue1.enqueue(1)\n",
    "queue1.enqueue(2)\n",
    "queue1.enqueue(3)\n",
    "print(queue1.pop())\n",
    "print(queue1.pop())"
   ]
  },
  {
   "cell_type": "markdown",
   "metadata": {},
   "source": [
    "2 - We need to implement another queue class that has the same properties as\n",
    "previous but with the following changes:\n",
    "A. The queue should have a name that is provided as a parameter of its\n",
    "constructor\n",
    "B. The queue should have a size that is provided as a parameter of its\n",
    "constructor and if we tried to insert more values than its size raises a\n",
    "custom exception called QueueOutOfRangeException\n",
    "C. The queue keeps track with all queues instances that has been created\n",
    "through this class and we can get any queue of them using its name\n",
    "D. The queue class should have two class methods called (save, load)\n",
    "which saves all created queues instances to a file and load them when\n",
    "needed. (bonus)"
   ]
  },
  {
   "cell_type": "code",
   "execution_count": null,
   "metadata": {},
   "outputs": [
    {
     "name": "stdout",
     "output_type": "stream",
     "text": [
      "1\n",
      "2\n"
     ]
    }
   ],
   "source": [
    "import pickle\n",
    "\n",
    "\n",
    "class QueueOutOfRangeException(Exception):\n",
    "    pass\n",
    "\n",
    "\n",
    "class Queue:\n",
    "    instances = {}\n",
    "    def __init__(self, name, size):\n",
    "        self.name = name\n",
    "        self.size = size\n",
    "        self.items = []\n",
    "\n",
    "        Queue.instances[name] = self\n",
    "\n",
    "    def is_empty(self):\n",
    "        return len(self.items) == 0\n",
    "\n",
    "    def insert(self, value):\n",
    "        if len(self.items) >= self.size:\n",
    "            raise QueueOutOfRangeException()\n",
    "        self.items.append(value)\n",
    "\n",
    "    def pop(self):\n",
    "        if self.is_empty():\n",
    "            print(f\"Queue '{self.name}' is empty.\")\n",
    "            return None\n",
    "        return self.items.pop(0)\n",
    "\n",
    "    @classmethod\n",
    "    def get_queue_by_name(cls, name):\n",
    "        return cls.instances.get(name, None)\n",
    "\n",
    "    @classmethod\n",
    "    def save(cls, filename):\n",
    "        with open(filename, \"wb\") as f:\n",
    "            pickle.dump(cls.instances, f)\n",
    "        print(f\"saved to {filename}.\")\n",
    "\n",
    "    @classmethod\n",
    "    def load(cls, filename):\n",
    "        try:\n",
    "            with open(filename, \"rb\") as f:\n",
    "                cls.instances = pickle.load(f)\n",
    "            print(f\"loaded from {filename}.\")\n",
    "        except FileNotFoundError:\n",
    "            print(f\"{filename} not found.\")\n",
    "\n",
    "queue1 = Queue(\"queue1\", 2)\n",
    "queue1.insert(1)\n",
    "queue1.insert(2)\n",
    "#queue1.insert(3)\n",
    "print(queue1.pop())\n",
    "print(queue1.pop())\n"
   ]
  }
 ],
 "metadata": {
  "kernelspec": {
   "display_name": "Python 3",
   "language": "python",
   "name": "python3"
  },
  "language_info": {
   "codemirror_mode": {
    "name": "ipython",
    "version": 3
   },
   "file_extension": ".py",
   "mimetype": "text/x-python",
   "name": "python",
   "nbconvert_exporter": "python",
   "pygments_lexer": "ipython3",
   "version": "3.9.21"
  }
 },
 "nbformat": 4,
 "nbformat_minor": 2
}
