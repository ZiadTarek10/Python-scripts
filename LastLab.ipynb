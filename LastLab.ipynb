{
 "cells": [
  {
   "cell_type": "markdown",
   "metadata": {},
   "source": [
    "A Queue is a linear structure which follows a particular order in which the operations are performed.\n",
    "The order is First In First Out (FIFO). A good example of a queue is any queue of consumers for a\n",
    "resource where the consumer that came first is served first."
   ]
  },
  {
   "cell_type": "markdown",
   "metadata": {},
   "source": [
    "1 - We need to implement a python class that represents the queue data\n",
    "structure.\n",
    "The class should have these operations:\n",
    "- insert(value) => which inserts a new value at the rear of the queue\n",
    "- pop() => which returns and removes a value from the front of the queue.\n",
    "We should return None and print a warning message if we tried to pop\n",
    "value from an empty queue\n",
    "- is_empty() => which returns True or False to represent whether the queue\n",
    "is empty or not"
   ]
  },
  {
   "cell_type": "code",
   "execution_count": 1,
   "metadata": {},
   "outputs": [
    {
     "name": "stdout",
     "output_type": "stream",
     "text": [
      "True\n",
      "1\n",
      "2\n"
     ]
    }
   ],
   "source": [
    "class queue :\n",
    "    def __init__(self):\n",
    "        self.items = []\n",
    "\n",
    "    def isEmpty(self):\n",
    "        return len(self.items) == 0\n",
    "    def enqueue(self, item):\n",
    "        self.items.append(item)\n",
    "    def pop(self):\n",
    "        if self.isEmpty():\n",
    "            print(\"Queue is empty\")\n",
    "            return None\n",
    "        return self.items.pop(0)\n",
    "queue1 = queue()\n",
    "print(queue1.isEmpty())\n",
    "queue1.enqueue(1)\n",
    "queue1.enqueue(2)\n",
    "queue1.enqueue(3)\n",
    "print(queue1.pop())\n",
    "print(queue1.pop())"
   ]
  },
  {
   "cell_type": "markdown",
   "metadata": {},
   "source": [
    "2 - We need to implement another queue class that has the same properties as\n",
    "previous but with the following changes:\n",
    "A. The queue should have a name that is provided as a parameter of its\n",
    "constructor\n",
    "B. The queue should have a size that is provided as a parameter of its\n",
    "constructor and if we tried to insert more values than its size raises a\n",
    "custom exception called QueueOutOfRangeException\n",
    "C. The queue keeps track with all queues instances that has been created\n",
    "through this class and we can get any queue of them using its name\n",
    "D. The queue class should have two class methods called (save, load)\n",
    "which saves all created queues instances to a file and load them when\n",
    "needed. (bonus)"
   ]
  },
  {
   "cell_type": "code",
   "execution_count": 2,
   "metadata": {},
   "outputs": [
    {
     "ename": "QueueOutOfRangeException",
     "evalue": "Queue 'queue1' has reached its size limit of 2.",
     "output_type": "error",
     "traceback": [
      "\u001b[0;31m---------------------------------------------------------------------------\u001b[0m",
      "\u001b[0;31mQueueOutOfRangeException\u001b[0m                  Traceback (most recent call last)",
      "Cell \u001b[0;32mIn[2], line 53\u001b[0m\n\u001b[1;32m     51\u001b[0m queue1\u001b[38;5;241m.\u001b[39minsert(\u001b[38;5;241m1\u001b[39m)\n\u001b[1;32m     52\u001b[0m queue1\u001b[38;5;241m.\u001b[39minsert(\u001b[38;5;241m2\u001b[39m)\n\u001b[0;32m---> 53\u001b[0m \u001b[43mqueue1\u001b[49m\u001b[38;5;241;43m.\u001b[39;49m\u001b[43minsert\u001b[49m\u001b[43m(\u001b[49m\u001b[38;5;241;43m3\u001b[39;49m\u001b[43m)\u001b[49m\n\u001b[1;32m     54\u001b[0m \u001b[38;5;28mprint\u001b[39m(queue1\u001b[38;5;241m.\u001b[39mpop())\n\u001b[1;32m     55\u001b[0m \u001b[38;5;28mprint\u001b[39m(queue1\u001b[38;5;241m.\u001b[39mpop())\n",
      "Cell \u001b[0;32mIn[2], line 22\u001b[0m, in \u001b[0;36mQueue.insert\u001b[0;34m(self, value)\u001b[0m\n\u001b[1;32m     20\u001b[0m \u001b[38;5;28;01mdef\u001b[39;00m \u001b[38;5;21minsert\u001b[39m(\u001b[38;5;28mself\u001b[39m, value):\n\u001b[1;32m     21\u001b[0m     \u001b[38;5;28;01mif\u001b[39;00m \u001b[38;5;28mlen\u001b[39m(\u001b[38;5;28mself\u001b[39m\u001b[38;5;241m.\u001b[39mitems) \u001b[38;5;241m>\u001b[39m\u001b[38;5;241m=\u001b[39m \u001b[38;5;28mself\u001b[39m\u001b[38;5;241m.\u001b[39msize:\n\u001b[0;32m---> 22\u001b[0m         \u001b[38;5;28;01mraise\u001b[39;00m QueueOutOfRangeException(\u001b[38;5;124mf\u001b[39m\u001b[38;5;124m\"\u001b[39m\u001b[38;5;124mQueue \u001b[39m\u001b[38;5;124m'\u001b[39m\u001b[38;5;132;01m{\u001b[39;00m\u001b[38;5;28mself\u001b[39m\u001b[38;5;241m.\u001b[39mname\u001b[38;5;132;01m}\u001b[39;00m\u001b[38;5;124m'\u001b[39m\u001b[38;5;124m has reached its size limit of \u001b[39m\u001b[38;5;132;01m{\u001b[39;00m\u001b[38;5;28mself\u001b[39m\u001b[38;5;241m.\u001b[39msize\u001b[38;5;132;01m}\u001b[39;00m\u001b[38;5;124m.\u001b[39m\u001b[38;5;124m\"\u001b[39m)\n\u001b[1;32m     23\u001b[0m     \u001b[38;5;28mself\u001b[39m\u001b[38;5;241m.\u001b[39mitems\u001b[38;5;241m.\u001b[39mappend(value)\n",
      "\u001b[0;31mQueueOutOfRangeException\u001b[0m: Queue 'queue1' has reached its size limit of 2."
     ]
    }
   ],
   "source": [
    "import pickle\n",
    "\n",
    "\n",
    "class QueueOutOfRangeException(Exception):\n",
    "    pass\n",
    "\n",
    "\n",
    "class Queue:\n",
    "    instances = {}\n",
    "    def __init__(self, name, size):\n",
    "        self.name = name\n",
    "        self.size = size\n",
    "        self.items = []\n",
    "\n",
    "        Queue.instances[name] = self\n",
    "\n",
    "    def is_empty(self):\n",
    "        return len(self.items) == 0\n",
    "\n",
    "    def insert(self, value):\n",
    "        if len(self.items) >= self.size:\n",
    "            raise QueueOutOfRangeException(f\"Queue '{self.name}' has reached its size limit of {self.size}.\")\n",
    "        self.items.append(value)\n",
    "\n",
    "    def pop(self):\n",
    "        if self.is_empty():\n",
    "            print(f\"Queue '{self.name}' is empty.\")\n",
    "            return None\n",
    "        return self.items.pop(0)\n",
    "\n",
    "    @classmethod\n",
    "    def get_queue_by_name(cls, name):\n",
    "        return cls.instances.get(name, None)\n",
    "\n",
    "    @classmethod\n",
    "    def save(cls, filename):\n",
    "        with open(filename, \"wb\") as f:\n",
    "            pickle.dump(cls.instances, f)\n",
    "        print(f\"All queues saved to {filename}.\")\n",
    "\n",
    "    @classmethod\n",
    "    def load(cls, filename):\n",
    "        try:\n",
    "            with open(filename, \"rb\") as f:\n",
    "                cls.instances = pickle.load(f)\n",
    "            print(f\"Queues loaded from {filename}.\")\n",
    "        except FileNotFoundError:\n",
    "            print(f\"File {filename} not found.\")\n",
    "\n",
    "queue1 = Queue(\"queue1\", 2)\n",
    "queue1.insert(1)\n",
    "queue1.insert(2)\n",
    "#queue1.insert(3)\n",
    "print(queue1.pop())\n",
    "print(queue1.pop())\n"
   ]
  }
 ],
 "metadata": {
  "kernelspec": {
   "display_name": "Python 3",
   "language": "python",
   "name": "python3"
  },
  "language_info": {
   "codemirror_mode": {
    "name": "ipython",
    "version": 3
   },
   "file_extension": ".py",
   "mimetype": "text/x-python",
   "name": "python",
   "nbconvert_exporter": "python",
   "pygments_lexer": "ipython3",
   "version": "3.9.21"
  }
 },
 "nbformat": 4,
 "nbformat_minor": 2
}
