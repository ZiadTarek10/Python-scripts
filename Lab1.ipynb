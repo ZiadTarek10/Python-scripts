{
 "cells": [
  {
   "cell_type": "markdown",
   "metadata": {},
   "source": [
    "Write a program that counts up the number of vowels [a, e, i, o,\n",
    "u] contained in the string."
   ]
  },
  {
   "cell_type": "code",
   "execution_count": 1,
   "metadata": {},
   "outputs": [
    {
     "name": "stdout",
     "output_type": "stream",
     "text": [
      "3\n"
     ]
    }
   ],
   "source": [
    "word = \"Ziaad\"\n",
    "counter = 0\n",
    "for x in word :\n",
    "    if (x == 'a' or x == 'i' or x == 'e' or x == 'o' or x =='u'):\n",
    "        counter += 1\n",
    "\n",
    "\n",
    "print (counter) "
   ]
  },
  {
   "cell_type": "markdown",
   "metadata": {},
   "source": [
    "Fill an array of 5 elements from the user, Sort it in descending\n",
    "and ascending orders then display the output."
   ]
  },
  {
   "cell_type": "code",
   "execution_count": 2,
   "metadata": {},
   "outputs": [
    {
     "name": "stdout",
     "output_type": "stream",
     "text": [
      "['15', '2', '22', '34', '532']\n",
      "['532', '34', '22', '2', '15']\n"
     ]
    }
   ],
   "source": [
    "data =[]\n",
    "i=0\n",
    "while i<5 :\n",
    "    num =input(\"please enter the index number \" + str(i+1) +\" : \")\n",
    "    if (num.isdigit()):\n",
    "        int(num)\n",
    "        data.append(num)\n",
    "        i+=1\n",
    "    else :\n",
    "        print(\"error you entered wrong datatype\")\n",
    "        break\n",
    "\n",
    "data.sort()\n",
    "print(data)\n",
    "data.sort(reverse=True)\n",
    "print(data)"
   ]
  },
  {
   "cell_type": "markdown",
   "metadata": {},
   "source": [
    "Write a program that prints the number of times the string 'iti'\n",
    "occurs in anystring"
   ]
  },
  {
   "cell_type": "code",
   "execution_count": 3,
   "metadata": {},
   "outputs": [
    {
     "name": "stdout",
     "output_type": "stream",
     "text": [
      "value :  0\n"
     ]
    }
   ],
   "source": [
    "text = input(\"enter the text\")\n",
    "counter = text.count(\"iti\")\n",
    "print(\"value : \" , counter )"
   ]
  },
  {
   "cell_type": "markdown",
   "metadata": {},
   "source": [
    "Write a program that remove all vowels from the input word and\n",
    "generate a brief version of it."
   ]
  },
  {
   "cell_type": "code",
   "execution_count": null,
   "metadata": {},
   "outputs": [],
   "source": [
    "text = input(\"enter text \")\n",
    "for index in range(len(text)):\n",
    "    if text[index] == \"i\" :\n",
    "        print(index)"
   ]
  }
 ],
 "metadata": {
  "kernelspec": {
   "display_name": "Python 3",
   "language": "python",
   "name": "python3"
  },
  "language_info": {
   "codemirror_mode": {
    "name": "ipython",
    "version": 3
   },
   "file_extension": ".py",
   "mimetype": "text/x-python",
   "name": "python",
   "nbconvert_exporter": "python",
   "pygments_lexer": "ipython3",
   "version": "3.9.21"
  }
 },
 "nbformat": 4,
 "nbformat_minor": 2
}
